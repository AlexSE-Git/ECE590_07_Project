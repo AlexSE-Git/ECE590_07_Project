{
 "cells": [
  {
   "cell_type": "markdown",
   "metadata": {},
   "source": [
    "# Code for Final Project: \n",
    "\n",
    "**Robust and Non-robust features**\n",
    "\n",
    "Duke University\n",
    "\n",
    "ECE590-07 Spring 2021\n",
    "\n",
    "## Setup"
   ]
  },
  {
   "cell_type": "code",
   "execution_count": null,
   "metadata": {},
   "outputs": [],
   "source": [
    "import torch\n",
    "import torch.nn as nn\n",
    "import torch.nn.functional as F\n",
    "import torch.optim as optim\n",
    "from torchvision import datasets, transforms\n",
    "\n",
    "import numpy as np\n",
    "import random\n",
    "import matplotlib.pyplot as plt\n",
    "\n",
    "# Custom\n",
    "from train import std_train, NR_train\n",
    "from test import std_test, robust_test, visualize\n",
    "from resnet20 import ResNetCIFAR\n",
    "from dataset import gen_NR_dataset\n",
    "\n",
    "device = \"cuda\" if torch.cuda.is_available() else \"cpu\""
   ]
  },
  {
   "cell_type": "markdown",
   "metadata": {},
   "source": [
    "## Model comparison \n",
    "\n",
    "Run the cell below to perform validation accuaracy and robustness tests on standard and non-robust models"
   ]
  },
  {
   "cell_type": "code",
   "execution_count": null,
   "metadata": {},
   "outputs": [],
   "source": [
    "# Standard model\n",
    "\n",
    "# Initialize a ResNet-20 model\n",
    "net = ResNetCIFAR(num_layers=20)\n",
    "net = net.to(device)\n",
    "# Load the best checkpoint\n",
    "net.load_state_dict(torch.load(\"./model_checkpoints/Standard91.pt\"))\n",
    "# Validation and robustness tests\n",
    "print('\\nStandard model:\\n')\n",
    "std_test(net)\n",
    "robust_test(net, EPS=0.05, ITS=10)\n",
    "\n",
    "# Non-robust model\n",
    "# Initialize a ResNet-20 model\n",
    "NR_net = ResNetCIFAR(num_layers=20)\n",
    "NR_net = NR_net.to(device)\n",
    "# Load the best checkpoint\n",
    "NR_net.load_state_dict(torch.load(\"./model_checkpoints/Non-robust61.pt\"))\n",
    "# Validation and robustness tests\n",
    "print('\\nNon-robust model:\\n')\n",
    "std_test(NR_net)\n",
    "robust_test(NR_net, EPS=0.05, ITS=10)"
   ]
  },
  {
   "cell_type": "markdown",
   "metadata": {},
   "source": [
    "## Visual observation\n",
    "\n",
    "This part visualize the non-robust dataset\n",
    "\n",
    "**(Warning: The step of re-generating non-robust dataset may take some time)**"
   ]
  },
  {
   "cell_type": "code",
   "execution_count": null,
   "metadata": {},
   "outputs": [],
   "source": [
    "# Generate non-robust dataset\n",
    "eps = 0.5\n",
    "its = 100\n",
    "alp = 0.1\n",
    "gen_NR_dataset(net, batch_size=250, EPS=eps, ALP=alp, ITS=its)\n",
    "\n",
    "# Visualize the non-robust dataset\n",
    "visualize(net)"
   ]
  },
  {
   "cell_type": "markdown",
   "metadata": {},
   "source": [
    "## Train models from scratch\n",
    "\n",
    "If you want to train the standard model and non-robust model from scratch,\n",
    "please uncomment the cell below."
   ]
  },
  {
   "cell_type": "code",
   "execution_count": null,
   "metadata": {},
   "outputs": [],
   "source": [
    "# # Train a Standard model\n",
    "# # Initialize a ResNet-20 model\n",
    "# net = ResNetCIFAR(num_layers=20)\n",
    "# net = net.to(device)\n",
    "\n",
    "# std_train(net, epochs=100, batch_size=128, lr=0.1, reg=2e-4)\n",
    "\n",
    "# # Train a non-robust model\n",
    "\n",
    "# # Attention: please uncomment the four lines below if you haven't generate the non-robust dataset\n",
    "# # eps = 0.5\n",
    "# # its = 100\n",
    "# # alp = 0.1\n",
    "# # gen_NR_dataset(net, batch_size=250, EPS=eps, ALP=alp, ITS=its)\n",
    "\n",
    "# NR_net = ResNetCIFAR(num_layers=20)\n",
    "# NR_net = NR_net.to(device)\n",
    "\n",
    "# NR_train(NR_net, epochs=200, batch_size=250, lr=0.1, reg=2e-4)"
   ]
  }
 ],
 "metadata": {
  "kernelspec": {
   "display_name": "Python 3",
   "language": "python",
   "name": "python3"
  },
  "language_info": {
   "codemirror_mode": {
    "name": "ipython",
    "version": 3
   },
   "file_extension": ".py",
   "mimetype": "text/x-python",
   "name": "python",
   "nbconvert_exporter": "python",
   "pygments_lexer": "ipython3",
   "version": "3.7.6"
  }
 },
 "nbformat": 4,
 "nbformat_minor": 4
}